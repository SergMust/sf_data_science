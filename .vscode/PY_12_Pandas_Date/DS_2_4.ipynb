{
 "cells": [
  {
   "attachments": {},
   "cell_type": "markdown",
   "metadata": {},
   "source": [
    "В ваше распоряжение предоставлена директория users. В данной директории содержатся csv-файлы, в каждом из которых хранится информация об идентификаторах пользователей (user_id) и ссылки на их фотографии (photo_url). Файлов в директории может быть сколько угодно.\n",
    "\n",
    "Вам необходимо написать функцию concat_user_files(path), параметром которой является path — путь до директории. Функция должна объединить информацию из предоставленных вам файлов в один DataFrame и вернуть его.\n",
    "\n",
    "Список названий всех файлов, находящихся в директории, вы можете получить с помощью функции os.listdir(path) из модуля os. Отсортируйте полученный список, прежде чем производить объединение файлов.\n",
    "\n",
    "Обратите внимание, что метод os.listdir() возвращает только названия файлов в указанной директории, а при чтении файла необходимо указывать полный путь до него.\n",
    "\n",
    "Не забудьте обновить индексы результирующей таблицы после объединения.\n",
    "\n",
    "Примечание. Учтите, что на тестовом наборе файлов в результате объединения могут возникнуть дубликаты, от которых необходимо будет избавиться.\n",
    "\n"
   ]
  },
  {
   "cell_type": "code",
   "execution_count": 1,
   "metadata": {},
   "outputs": [],
   "source": [
    "import pandas as pd\n",
    "import os\n",
    "\n",
    "def concat_user_files(path):\n",
    "    data = pd.DataFrame()\n",
    "    file_names = os.listdir(path)\n",
    "    file_names.sort()\n",
    "    for file in file_names:\n",
    "        tmp_data = pd.read_csv(path + '/' + file)\n",
    "        data = pd.concat([data, tmp_data], axis=0, ignore_index=True)\n",
    "    data = data.drop_duplicates()\n",
    "    return data\n"
   ]
  }
 ],
 "metadata": {
  "kernelspec": {
   "display_name": "Python 3",
   "language": "python",
   "name": "python3"
  },
  "language_info": {
   "codemirror_mode": {
    "name": "ipython",
    "version": 3
   },
   "file_extension": ".py",
   "mimetype": "text/x-python",
   "name": "python",
   "nbconvert_exporter": "python",
   "pygments_lexer": "ipython3",
   "version": "3.9.10"
  },
  "orig_nbformat": 4,
  "vscode": {
   "interpreter": {
    "hash": "893682c4b29616811cfac52d908bc7079082a45dd0735f0cab17e1eaa77fff3a"
   }
  }
 },
 "nbformat": 4,
 "nbformat_minor": 2
}
